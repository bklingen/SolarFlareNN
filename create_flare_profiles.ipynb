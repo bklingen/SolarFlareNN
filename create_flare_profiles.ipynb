{
 "cells": [
  {
   "cell_type": "code",
   "execution_count": 1,
   "metadata": {},
   "outputs": [],
   "source": [
    "import numpy as np\n",
    "import pandas as pd\n",
    "import random\n",
    "from datetime import datetime, timedelta"
   ]
  },
  {
   "cell_type": "markdown",
   "metadata": {},
   "source": [
    "# GOES Flare Profiles for SolarNN"
   ]
  },
  {
   "cell_type": "markdown",
   "metadata": {},
   "source": [
    "## Flare Profiles - Case 1\n",
    "- Flare profiles determined by GOES detections and random intervals between GOES detections."
   ]
  },
  {
   "cell_type": "code",
   "execution_count": null,
   "metadata": {},
   "outputs": [],
   "source": [
    "# Step 1: Read the CSV file\n",
    "flares2017_2022 = pd.read_csv(\"/Users/joshuaingram/Main/Projects/SolarFlareNN/data/FlaresGoes161718Wavelet_2.csv\")\n",
    "\n",
    "# Step 2: Identify flare and wavelet indices\n",
    "flare_indices = flares2017_2022.index[flares2017_2022['Flare'] == 1].tolist()\n",
    "wavelet_indices = flares2017_2022.index[flares2017_2022['Wavelet'] == 1].tolist()\n",
    "\n",
    "numFlares = len(flare_indices)\n",
    "\n",
    "# Step 3: Initialize parameters and matrices\n",
    "hist1 = 15  # mins before\n",
    "hist2 = 15  # mins after\n",
    "nonflareMultiple = 20  # how many non-flares to generate for every flare\n",
    "cols = hist1 + hist2 + 1 + 1 + 1\n",
    "\n",
    "FlareProfiles = np.empty((numFlares, cols))\n",
    "FlareProfiles[:] = np.nan\n",
    "\n",
    "j = 0\n",
    "for i in flare_indices:\n",
    "    if i > hist1 and i <= len(flares2017_2022) - hist2:\n",
    "        fluxes = flares2017_2022['Flux'].iloc[(i - hist1):(i + hist2 + 1)] / flares2017_2022['Flux'].iloc[i]\n",
    "        FlareProfiles[j, :-2] = fluxes.values\n",
    "        FlareProfiles[j, -2] = 1\n",
    "        FlareProfiles[j, -1] = flares2017_2022['secs_since_2000'].iloc[i]\n",
    "        j += 1\n",
    "\n",
    "# Step 4: Generate non-flare profiles\n",
    "exclude_indices = set(wavelet_indices)\n",
    "for k in range(1, 6):\n",
    "    exclude_indices.update([idx + k for idx in wavelet_indices])\n",
    "    exclude_indices.update([idx - k for idx in wavelet_indices])\n",
    "\n",
    "nonflare_indices = set(range(hist1 + 1, len(flares2017_2022) - (hist2 + 1))) - exclude_indices\n",
    "nonflare_indices = random.sample(nonflare_indices, nonflareMultiple * numFlares)\n",
    "\n",
    "NotFlareProfiles = np.empty((nonflareMultiple * numFlares, cols))\n",
    "NotFlareProfiles[:] = np.nan\n",
    "\n",
    "j = 0\n",
    "for i in nonflare_indices:\n",
    "    fluxes = flares2017_2022['Flux'].iloc[(i - hist1):(i + hist2 + 1)] / flares2017_2022['Flux'].iloc[i]\n",
    "    NotFlareProfiles[j, :-2] = fluxes.values\n",
    "    NotFlareProfiles[j, -2] = 0\n",
    "    NotFlareProfiles[j, -1] = flares2017_2022['secs_since_2000'].iloc[i]\n",
    "    j += 1\n",
    "\n",
    "# Step 5: Combine and save the profiles\n",
    "Profiles = np.vstack([FlareProfiles, NotFlareProfiles])\n",
    "Profiles_df = pd.DataFrame(Profiles, columns=[f'x{i+1}' for i in range(hist1 + hist2 + 1)] + ['y', 'SecsSince2000'])\n",
    "Profiles_df = Profiles_df.dropna()\n",
    "\n",
    "# Convert 'SecsSince2000' to datetime\n",
    "Profiles_df['Date'] = pd.to_datetime(Profiles_df['SecsSince2000'], unit='s', origin=pd.Timestamp('2000-01-01 12:00:00'))\n",
    "Profiles_df.drop('SecsSince2000', axis=1, inplace=True)\n",
    "\n",
    "# Save to CSV\n",
    "Profiles_df.to_csv(\"/Users/joshuaingram/Main/Projects/SolarFlareNN/Profiles2017_2022_wave_v2.csv\", index=False)\n",
    "\n",
    "Profiles_df.head(), Profiles_df.shape"
   ]
  },
  {
   "cell_type": "markdown",
   "metadata": {},
   "source": [
    "## Flare Profiles - Case 2\n",
    "- Flare profiles determined by GOES detections and random intervals between wavelet detections."
   ]
  },
  {
   "cell_type": "code",
   "execution_count": 3,
   "metadata": {},
   "outputs": [
    {
     "name": "stderr",
     "output_type": "stream",
     "text": [
      "/var/folders/k3/6x6tz2rj1qb4727bvm_ytpqc0000gn/T/ipykernel_50021/2923137786.py:2: DtypeWarning: Columns (5,6,7) have mixed types. Specify dtype option on import or set low_memory=False.\n",
      "  flares2017_2022 = pd.read_csv(\"/Users/joshuaingram/Main/Projects/SolarFlareNN/data/FlaresGoes161718Wavelet_2.csv\")\n",
      "/var/folders/k3/6x6tz2rj1qb4727bvm_ytpqc0000gn/T/ipykernel_50021/2923137786.py:35: DeprecationWarning: Sampling from a set deprecated\n",
      "since Python 3.9 and will be removed in a subsequent version.\n",
      "  nonflare_indices = random.sample(nonflare_indices, nonflareMultiple * numFlares)\n"
     ]
    },
    {
     "data": {
      "text/plain": [
       "(         x1        x2        x3        x4        x5        x6        x7  \\\n",
       " 0  0.249173  0.278074  0.289489  0.297877  0.323917  0.323846  0.293258   \n",
       " 1  0.185302  0.195949  0.204914  0.203649  0.217488  0.225099  0.233949   \n",
       " 2  0.071275  0.084802  0.110699  0.211815  0.258221  0.193603  0.142327   \n",
       " 3  0.722010  0.677981  0.669214  0.650412  0.641111  0.633326  0.625018   \n",
       " 4  0.729120  0.716180  0.701948  0.645696  0.609369  0.585797  0.576336   \n",
       " \n",
       "          x8        x9       x10  ...       x24       x25       x26       x27  \\\n",
       " 0  0.300184  0.320395  0.401313  ...  0.600410  0.576188  0.541754  0.507117   \n",
       " 1  0.248383  0.258860  0.267442  ...  0.877201  1.928971  3.298110  3.872649   \n",
       " 2  0.106506  0.087165  0.077384  ...  0.351790  0.349945  0.343246  0.341172   \n",
       " 3  0.647180  0.679063  0.713814  ...  0.766183  0.723078  0.695107  0.683881   \n",
       " 4  0.560038  0.550306  0.534466  ...  1.558642  2.091865  2.234191  2.047342   \n",
       " \n",
       "         x28       x29       x30       x31    y                Date  \n",
       " 0  0.484808  0.457677  0.428194  0.404529  1.0 2017-02-09 00:50:00  \n",
       " 1  3.740228  3.309025  2.688614  2.132033  1.0 2017-02-09 01:40:00  \n",
       " 2  0.355728  0.354881  0.359467  0.367767  1.0 2017-02-09 01:51:00  \n",
       " 3  0.664542  0.652994  0.634198  0.629069  1.0 2017-02-09 02:40:00  \n",
       " 4  1.905474  1.820674  1.882654  1.696763  1.0 2017-02-09 02:59:00  \n",
       " \n",
       " [5 rows x 33 columns],\n",
       " (156885, 33))"
      ]
     },
     "execution_count": 3,
     "metadata": {},
     "output_type": "execute_result"
    }
   ],
   "source": [
    "# Step 1: Read the CSV file\n",
    "flares2017_2022 = pd.read_csv(\"/Users/joshuaingram/Main/Projects/SolarFlareNN/data/FlaresGoes161718Wavelet_2.csv\")\n",
    "\n",
    "# Step 2: Identify flare and wavelet indices\n",
    "flare_indices = flares2017_2022.index[flares2017_2022['Flare'] == 1].tolist()\n",
    "wavelet_indices = flares2017_2022.index[flares2017_2022['Wavelet'] == 1].tolist()\n",
    "\n",
    "numFlares = len(flare_indices)\n",
    "\n",
    "# Step 3: Initialize parameters and matrices\n",
    "hist1 = 15  # mins before\n",
    "hist2 = 15  # mins after\n",
    "nonflareMultiple = 20  # how many non-flares to generate for every flare\n",
    "cols = hist1 + hist2 + 1 + 1 + 1\n",
    "\n",
    "FlareProfiles = np.empty((numFlares, cols))\n",
    "FlareProfiles[:] = np.nan\n",
    "\n",
    "j = 0\n",
    "for i in flare_indices:\n",
    "    if i > hist1 and i <= len(flares2017_2022) - hist2:\n",
    "        fluxes = flares2017_2022['Flux'].iloc[(i - hist1):(i + hist2 + 1)] / flares2017_2022['Flux'].iloc[i]\n",
    "        FlareProfiles[j, :-2] = fluxes.values\n",
    "        FlareProfiles[j, -2] = 1\n",
    "        FlareProfiles[j, -1] = flares2017_2022['secs_since_2000'].iloc[i]\n",
    "        j += 1\n",
    "\n",
    "# Step 4: Generate non-flare profiles\n",
    "exclude_indices = set(wavelet_indices)\n",
    "for k in range(1, 6):\n",
    "    exclude_indices.update([idx + k for idx in wavelet_indices])\n",
    "    exclude_indices.update([idx - k for idx in wavelet_indices])\n",
    "\n",
    "nonflare_indices = set(range(hist1 + 1, len(flares2017_2022) - (hist2 + 1))) - exclude_indices\n",
    "nonflare_indices = random.sample(nonflare_indices, nonflareMultiple * numFlares)\n",
    "\n",
    "NotFlareProfiles = np.empty((nonflareMultiple * numFlares, cols))\n",
    "NotFlareProfiles[:] = np.nan\n",
    "\n",
    "j = 0\n",
    "for i in nonflare_indices:\n",
    "    fluxes = flares2017_2022['Flux'].iloc[(i - hist1):(i + hist2 + 1)] / flares2017_2022['Flux'].iloc[i]\n",
    "    NotFlareProfiles[j, :-2] = fluxes.values\n",
    "    NotFlareProfiles[j, -2] = 0\n",
    "    NotFlareProfiles[j, -1] = flares2017_2022['secs_since_2000'].iloc[i]\n",
    "    j += 1\n",
    "\n",
    "# Step 5: Combine and save the profiles\n",
    "Profiles = np.vstack([FlareProfiles, NotFlareProfiles])\n",
    "Profiles_df = pd.DataFrame(Profiles, columns=[f'x{i+1}' for i in range(hist1 + hist2 + 1)] + ['y', 'SecsSince2000'])\n",
    "Profiles_df = Profiles_df.dropna()\n",
    "\n",
    "# Convert 'SecsSince2000' to datetime\n",
    "Profiles_df['Date'] = pd.to_datetime(Profiles_df['SecsSince2000'], unit='s', origin=pd.Timestamp('2000-01-01 12:00:00'))\n",
    "Profiles_df.drop('SecsSince2000', axis=1, inplace=True)\n",
    "\n",
    "# Save to CSV\n",
    "Profiles_df.to_csv(\"/Users/joshuaingram/Main/Projects/SolarFlareNN/Profiles2017_2022_wave_v2.csv\", index=False)\n",
    "\n",
    "Profiles_df.head(), Profiles_df.shape"
   ]
  },
  {
   "cell_type": "markdown",
   "metadata": {},
   "source": [
    "## Flare Profiles - Case 3\n",
    "- Flare profiles for positive cases determined by GOES detections, and slide center point of window over full duration of flare. Negative cases determined by wavelet detection"
   ]
  },
  {
   "cell_type": "code",
   "execution_count": null,
   "metadata": {},
   "outputs": [],
   "source": []
  },
  {
   "cell_type": "markdown",
   "metadata": {},
   "source": [
    "## Flare Profiles - Case 4\n",
    "- Flare profiles determined by GOES detections and random intervals between wavelet detections. Do not normalize flux values."
   ]
  },
  {
   "cell_type": "code",
   "execution_count": null,
   "metadata": {},
   "outputs": [],
   "source": []
  },
  {
   "cell_type": "markdown",
   "metadata": {},
   "source": [
    "## Flare Profiles - Case 5\n",
    "- Flare profiles determined by GOES detections and random intervals between wavelet detections. Change time scales of flare profiles."
   ]
  },
  {
   "cell_type": "code",
   "execution_count": null,
   "metadata": {},
   "outputs": [],
   "source": []
  },
  {
   "cell_type": "markdown",
   "metadata": {},
   "source": [
    "## Flare Profiles - Case 5 \n",
    "- Flare profiles determined by GOES detections, random intervals between wavelet detections, and random noise at sub A-class flux levels."
   ]
  },
  {
   "cell_type": "code",
   "execution_count": null,
   "metadata": {},
   "outputs": [],
   "source": []
  },
  {
   "cell_type": "markdown",
   "metadata": {},
   "source": []
  }
 ],
 "metadata": {
  "kernelspec": {
   "display_name": "Python 3",
   "language": "python",
   "name": "python3"
  },
  "language_info": {
   "codemirror_mode": {
    "name": "ipython",
    "version": 3
   },
   "file_extension": ".py",
   "mimetype": "text/x-python",
   "name": "python",
   "nbconvert_exporter": "python",
   "pygments_lexer": "ipython3",
   "version": "3.10.9"
  },
  "orig_nbformat": 4
 },
 "nbformat": 4,
 "nbformat_minor": 2
}
